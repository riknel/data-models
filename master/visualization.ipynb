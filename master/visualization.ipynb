{
 "cells": [
  {
   "cell_type": "code",
   "execution_count": 3,
   "metadata": {},
   "outputs": [
    {
     "data": {
      "text/html": [
       "<script>requirejs.config({paths: { 'plotly': ['https://cdn.plot.ly/plotly-latest.min']},});if(!window.Plotly) {{require(['plotly'],function(plotly) {window.Plotly=plotly;});}}</script>"
      ],
      "text/vnd.plotly.v1+html": [
       "<script>requirejs.config({paths: { 'plotly': ['https://cdn.plot.ly/plotly-latest.min']},});if(!window.Plotly) {{require(['plotly'],function(plotly) {window.Plotly=plotly;});}}</script>"
      ]
     },
     "metadata": {},
     "output_type": "display_data"
    }
   ],
   "source": [
    "import pandas as pd\n",
    "import numpy as np\n",
    "\n",
    "import plotly.plotly as py\n",
    "from plotly import __version__\n",
    "from plotly.offline import download_plotlyjs, init_notebook_mode, plot, iplot\n",
    "from plotly.graph_objs import Scatter, Figure, Layout\n",
    "import plotly.graph_objs as go\n",
    "from matplotlib import pyplot as plt\n",
    "import operator\n",
    "import seaborn as sns\n",
    "\n",
    "from fbprophet import Prophet\n",
    "\n",
    "init_notebook_mode(connected=True)\n",
    "%matplotlib inline"
   ]
  },
  {
   "cell_type": "code",
   "execution_count": null,
   "metadata": {
    "collapsed": true
   },
   "outputs": [],
   "source": []
  },
  {
   "cell_type": "markdown",
   "metadata": {},
   "source": [
    "# Clustering 3-d "
   ]
  },
  {
   "cell_type": "code",
   "execution_count": 4,
   "metadata": {},
   "outputs": [
    {
     "data": {
      "text/html": [
       "<div>\n",
       "<style>\n",
       "    .dataframe thead tr:only-child th {\n",
       "        text-align: right;\n",
       "    }\n",
       "\n",
       "    .dataframe thead th {\n",
       "        text-align: left;\n",
       "    }\n",
       "\n",
       "    .dataframe tbody tr th {\n",
       "        vertical-align: top;\n",
       "    }\n",
       "</style>\n",
       "<table border=\"1\" class=\"dataframe\">\n",
       "  <thead>\n",
       "    <tr style=\"text-align: right;\">\n",
       "      <th></th>\n",
       "      <th>Причина забраковки</th>\n",
       "      <th>Тип_%</th>\n",
       "      <th>Зарещен_%</th>\n",
       "      <th>Лаборатория_%</th>\n",
       "      <th>cluster</th>\n",
       "      <th>cluster_label</th>\n",
       "    </tr>\n",
       "  </thead>\n",
       "  <tbody>\n",
       "    <tr>\n",
       "      <th>0</th>\n",
       "      <td>буферная стадия</td>\n",
       "      <td>0.4</td>\n",
       "      <td>1.0</td>\n",
       "      <td>0.8</td>\n",
       "      <td>2</td>\n",
       "      <td>1</td>\n",
       "    </tr>\n",
       "  </tbody>\n",
       "</table>\n",
       "</div>"
      ],
      "text/plain": [
       "  Причина забраковки  Тип_%  Зарещен_%  Лаборатория_%  cluster  cluster_label\n",
       "0    буферная стадия    0.4        1.0            0.8        2              1"
      ]
     },
     "execution_count": 4,
     "metadata": {},
     "output_type": "execute_result"
    }
   ],
   "source": [
    "def_df = pd.read_csv('results/clusters.csv', encoding='cp1251', sep=';')\n",
    "def_df.head(1)"
   ]
  },
  {
   "cell_type": "code",
   "execution_count": 8,
   "metadata": {
    "collapsed": true
   },
   "outputs": [],
   "source": [
    "def_df.rename(columns={'Зарещен_%':'Запрещен_%'}, inplace=True)"
   ]
  },
  {
   "cell_type": "code",
   "execution_count": 9,
   "metadata": {
    "collapsed": true
   },
   "outputs": [],
   "source": [
    "clustering_columns = ['Тип_%', 'Запрещен_%', 'Лаборатория_%']"
   ]
  },
  {
   "cell_type": "code",
   "execution_count": 10,
   "metadata": {},
   "outputs": [
    {
     "data": {
      "text/plain": [
       "'file://C:\\\\Users\\\\ndmel\\\\Desktop\\\\aihack\\\\Protek\\\\results\\\\pics\\\\def_clustering.html'"
      ]
     },
     "execution_count": 10,
     "metadata": {},
     "output_type": "execute_result"
    }
   ],
   "source": [
    "# визуализируем 3-д\n",
    "data1 = []\n",
    "for cluster, cluster_group in def_df.groupby(['cluster']):\n",
    "    x = cluster_group[clustering_columns[0]]\n",
    "    y = cluster_group[clustering_columns[1]]\n",
    "    z = cluster_group[clustering_columns[2]]\n",
    "    trace = go.Scatter3d(\n",
    "        x=x,\n",
    "        y=y,\n",
    "        z=z,\n",
    "        mode='markers',\n",
    "        marker=dict(\n",
    "            size=12,\n",
    "            line=dict(\n",
    "                width=0.5\n",
    "            ),\n",
    "            opacity=0.8\n",
    "        ),\n",
    "        name=cluster\n",
    "    )\n",
    "    data1.append(trace)\n",
    "    \n",
    "layout = go.Layout(\n",
    "    title='Кластеризация',\n",
    "    scene = dict(\n",
    "                    xaxis = dict(\n",
    "                        title=clustering_columns[0]),\n",
    "                    yaxis = dict(\n",
    "                        title=clustering_columns[1]),\n",
    "                    zaxis = dict(\n",
    "                        title=clustering_columns[2]),),\n",
    "    margin=dict(\n",
    "        l=0,\n",
    "        r=0,\n",
    "        b=0,\n",
    "        t=0\n",
    "    )\n",
    ")\n",
    "\n",
    "fig = go.Figure(data=data1, layout=layout)\n",
    "plot(fig, filename='results/pics/def_clustering.html', show_link=False)"
   ]
  },
  {
   "cell_type": "code",
   "execution_count": null,
   "metadata": {
    "collapsed": true
   },
   "outputs": [],
   "source": []
  },
  {
   "cell_type": "markdown",
   "metadata": {},
   "source": [
    "# Time-series"
   ]
  },
  {
   "cell_type": "code",
   "execution_count": null,
   "metadata": {
    "collapsed": true
   },
   "outputs": [],
   "source": []
  },
  {
   "cell_type": "code",
   "execution_count": null,
   "metadata": {
    "collapsed": true
   },
   "outputs": [],
   "source": [
    "data.sort_values(['Производитель', 'Дата документа'], inplace = True)"
   ]
  },
  {
   "cell_type": "code",
   "execution_count": null,
   "metadata": {
    "collapsed": true
   },
   "outputs": [],
   "source": [
    "for manufacturer, group in data.groupby(['Производитель']):\n",
    "    \n",
    "    series = group.groupby(['Месяц документа']).size().reset_index().rename(columns={0:'y'})\n",
    "    series.columns = ['ds', 'y']\n",
    "    \n",
    "    if series.ds.unique().shape[0] < 12:\n",
    "        continue\n",
    "        \n",
    "    # predict\n",
    "    my_model = Prophet()\n",
    "#     if (series.ds.max() - series.ds.min()).days >= 365:\n",
    "#         my_model.yearly_seasonality = True\n",
    "    my_model.fit(series)\n",
    "    future_dates = pd.DataFrame([series.ds.max() + datetime.timedelta(days=i) for i in range(0, 12 * 30, 30)], columns=['ds'])\n",
    "    forecast = my_model.predict(future_dates)\n",
    "\n",
    "    # plot\n",
    "#     plt.figure(figsize=(15, 10))\n",
    "#     plt.plot(series['ds'], series['y'])\n",
    "#     plt.plot(forecast['ds'], forecast['yhat'])\n",
    "#     plt.show()\n",
    "    x = pd.DatetimeIndex(series['ds'].values)\n",
    "    y = series['y'].values\n",
    "    x_pred = pd.DatetimeIndex(future_dates['ds'].values)\n",
    "    y_pred = forecast['yhat']\n",
    "    trace = go.Scatter(\n",
    "        x = x,\n",
    "        y = y,\n",
    "        marker = dict(\n",
    "            color = 'rgb(85, 85, 85)',\n",
    "        ),\n",
    "        name='Факт'\n",
    "    )\n",
    "    trace1 = go.Scatter(\n",
    "        x = x_pred,\n",
    "        y = [x if x > 0 else 0 for x in y_pred],\n",
    "        marker = dict(\n",
    "            color = 'rgb(18, 79, 166)',\n",
    "        ),\n",
    "        name='Предсказание'\n",
    "    )\n",
    "    data1 = [trace, trace1]\n",
    "    layout = go.Layout(\n",
    "    title='Производитель \\'%s\\' изъятия по месяцам' % manufacturer,\n",
    "    xaxis=dict(\n",
    "        title='Дата',\n",
    "        titlefont=dict(\n",
    "            family='Courier New, monospace',\n",
    "            size=18,\n",
    "            color='#7f7f7f'\n",
    "        )\n",
    "    ),\n",
    "    yaxis=dict(\n",
    "        title='Изъятия, раз',\n",
    "        titlefont=dict(\n",
    "            family='Courier New, monospace',\n",
    "            size=18,\n",
    "            color='#7f7f7f'\n",
    "            )\n",
    "        )\n",
    "    )\n",
    "    fig = go.Figure(data=data1, layout=layout)\n",
    "    \n",
    "    plot(fig, filename='pics/manufacturer \\'%s\\' reports.html' % manufacturer.replace('/', ''), show_link=False, auto_open=False)"
   ]
  },
  {
   "cell_type": "code",
   "execution_count": null,
   "metadata": {
    "collapsed": true
   },
   "outputs": [],
   "source": [
    "for manufacturer, group in data.groupby(['Производитель']):\n",
    "    \n",
    "    series = group.groupby(['Год документа']).size().reset_index().rename(columns={0:'y'})\n",
    "    series.columns = ['ds', 'y']\n",
    "    \n",
    "    if series.shape[0] <= 2:\n",
    "        continue\n",
    "    \n",
    "    # plot\n",
    "    x = series['ds'].values\n",
    "    y = series['y'].values\n",
    "    trace = go.Bar(\n",
    "        x = x,\n",
    "        y = y,\n",
    "        name='Факт'\n",
    "    )\n",
    "\n",
    "    data1 = [trace]\n",
    "    layout = go.Layout(\n",
    "    title='Производитель \\'%s\\' изъятия по годам' % manufacturer,\n",
    "    xaxis=dict(\n",
    "        title='Дата',\n",
    "        titlefont=dict(\n",
    "            family='Courier New, monospace',\n",
    "            size=18,\n",
    "            color='#7f7f7f'\n",
    "        )\n",
    "    ),\n",
    "    yaxis=dict(\n",
    "        title='Изъятия, раз',\n",
    "        titlefont=dict(\n",
    "            family='Courier New, monospace',\n",
    "            size=18,\n",
    "            color='#7f7f7f'\n",
    "            )\n",
    "        )\n",
    "    )\n",
    "    fig = go.Figure(data=data1, layout=layout)\n",
    "    \n",
    "    plot(fig, filename='pics/year/manufacturer \\'%s\\' reports.html' % manufacturer.replace('/', ''), show_link=False, auto_open=False)\n",
    "#     break"
   ]
  },
  {
   "cell_type": "code",
   "execution_count": null,
   "metadata": {
    "collapsed": true
   },
   "outputs": [],
   "source": [
    "reestr_place.sort_values(['Производитель', 'Дата документа'], inplace = True)\n",
    "reestr_place.head(1)"
   ]
  },
  {
   "cell_type": "code",
   "execution_count": null,
   "metadata": {
    "collapsed": true
   },
   "outputs": [],
   "source": [
    "for manufacturer, group in reestr_place.groupby(['Производитель']):\n",
    "    \n",
    "    series = group.groupby(['Месяц документа']).size().reset_index().rename(columns={0:'y'})\n",
    "    series.columns = ['ds', 'y']\n",
    "    \n",
    "    if series.ds.unique().shape[0] < 12:\n",
    "        continue\n",
    "        \n",
    "    # predict\n",
    "    my_model = Prophet()\n",
    "    my_model.fit(series)\n",
    "    future_dates = pd.DataFrame([series.ds.max() + datetime.timedelta(days=i) for i in range(0, 12 * 30, 30)], columns=['ds'])\n",
    "    forecast = my_model.predict(future_dates)\n",
    "\n",
    "    # plot\n",
    "    x = pd.DatetimeIndex(series['ds'].values)\n",
    "    y = series['y'].values\n",
    "    x_pred = pd.DatetimeIndex(future_dates['ds'].values)\n",
    "    y_pred = forecast['yhat']\n",
    "    trace = go.Scatter(\n",
    "        x = x,\n",
    "        y = y,\n",
    "        marker = dict(\n",
    "            color = 'rgb(85, 85, 85)',\n",
    "        ),\n",
    "        name='Факт'\n",
    "    )\n",
    "    trace1 = go.Scatter(\n",
    "        x = x_pred,\n",
    "        y = [x if x > 0 else 0 for x in y_pred],\n",
    "        marker = dict(\n",
    "            color = 'rgb(18, 79, 166)',\n",
    "        ),\n",
    "        name='Предсказание'\n",
    "    )\n",
    "    data1 = [trace, trace1]\n",
    "    layout = go.Layout(\n",
    "    title='Производитель \\'%s\\' изъятия по месяцам' % manufacturer,\n",
    "    xaxis=dict(\n",
    "        title='Дата',\n",
    "        titlefont=dict(\n",
    "            family='Courier New, monospace',\n",
    "            size=18,\n",
    "            color='#7f7f7f'\n",
    "        )\n",
    "    ),\n",
    "    yaxis=dict(\n",
    "        title='Изъятия, раз',\n",
    "        titlefont=dict(\n",
    "            family='Courier New, monospace',\n",
    "            size=18,\n",
    "            color='#7f7f7f'\n",
    "            )\n",
    "        )\n",
    "    )\n",
    "    fig = go.Figure(data=data1, layout=layout)\n",
    "    \n",
    "    plot(fig, filename='pics/manufacturer \\'%s\\' letters.html' % manufacturer.replace('/', ''), show_link=False, auto_open=False)"
   ]
  }
 ],
 "metadata": {
  "kernelspec": {
   "display_name": "Python 3",
   "language": "python",
   "name": "python3"
  },
  "language_info": {
   "codemirror_mode": {
    "name": "ipython",
    "version": 3
   },
   "file_extension": ".py",
   "mimetype": "text/x-python",
   "name": "python",
   "nbconvert_exporter": "python",
   "pygments_lexer": "ipython3",
   "version": "3.6.3"
  }
 },
 "nbformat": 4,
 "nbformat_minor": 2
}
