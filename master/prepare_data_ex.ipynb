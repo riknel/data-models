{
 "cells": [
  {
   "cell_type": "code",
   "execution_count": 1,
   "metadata": {},
   "outputs": [],
   "source": [
    "import pandas as pd"
   ]
  },
  {
   "cell_type": "code",
   "execution_count": null,
   "metadata": {},
   "outputs": [],
   "source": []
  },
  {
   "cell_type": "markdown",
   "metadata": {},
   "source": [
    "# Prepare gos data"
   ]
  },
  {
   "cell_type": "code",
   "execution_count": 2,
   "metadata": {},
   "outputs": [],
   "source": [
    "df_gos = pd.read_excel('data/grls2018-03-16-1.xls')\n",
    "df_gos_place = pd.read_csv('data/df_gos.csv', encoding = 'cp1251', index_col = 0)\n",
    "df_gos_place.drop('(0, \\'place_id\\')', 1, inplace = True)\n",
    "df_gos_place.rename(columns = {'name':'Юридическое лицо, на имя которого выдано регистрационное удостоверение'}, inplace = True)\n",
    "df_gos = df_gos.merge(df_gos_place, on=\"Юридическое лицо, на имя которого выдано регистрационное удостоверение\", how = 'left' )"
   ]
  },
  {
   "cell_type": "code",
   "execution_count": 9,
   "metadata": {},
   "outputs": [],
   "source": [
    "df_gos[['place_id', 'Юридическое лицо, на имя которого выдано регистрационное удостоверение', 'Торговое наименование\\nлекарственного препарата']].drop_duplicates().to_csv('data/gos_dict.csv', sep=';', index = False)"
   ]
  },
  {
   "cell_type": "code",
   "execution_count": 9,
   "metadata": {},
   "outputs": [],
   "source": [
    "# # save gos dict for later use\n",
    "# df_gos[['place_id', 'Юридическое лицо, на имя которого выдано регистрационное удостоверение', 'Торговое наименование\\nлекарственного препарата']].drop_duplicates().to_csv('data/gos_dict.csv', sep=';', index = False)"
   ]
  },
  {
   "cell_type": "code",
   "execution_count": 4,
   "metadata": {},
   "outputs": [],
   "source": [
    "# # save gos dict for later use\n",
    "# df_gos[['place_id', 'Юридическое лицо, на имя которого выдано регистрационное удостоверение']].drop_duplicates().to_csv('data/gos_dict_manuf.csv', sep=';', index = False)"
   ]
  },
  {
   "cell_type": "code",
   "execution_count": 15,
   "metadata": {},
   "outputs": [],
   "source": [
    "# stats\n",
    "df_gos['Дата регистрации'] = pd.DatetimeIndex(df_gos['Дата регистрации'])\n",
    "df_gos['Дата окончания действия регистрационного удостоверения'] = pd.DatetimeIndex(df_gos['Дата окончания действия регистрационного удостоверения'])\n",
    "df_gos['Дата аннулирования регистрационного удостоверения'] = pd.DatetimeIndex(df_gos['Дата аннулирования регистрационного удостоверения'])\n",
    "df_gos['place_was_nullated'] = pd.isnull(df_gos['Дата аннулирования регистрационного удостоверения'])\n",
    "df_gos['place_no_end'] = pd.isnull(df_gos['Дата окончания действия регистрационного удостоверения'])\n",
    "df_gos['place_time'] = (df_gos['Дата окончания действия регистрационного удостоверения'] - df_gos['Дата регистрации']).dt.days"
   ]
  },
  {
   "cell_type": "code",
   "execution_count": 16,
   "metadata": {},
   "outputs": [
    {
     "data": {
      "text/html": [
       "<div>\n",
       "<style>\n",
       "    .dataframe thead tr:only-child th {\n",
       "        text-align: right;\n",
       "    }\n",
       "\n",
       "    .dataframe thead th {\n",
       "        text-align: left;\n",
       "    }\n",
       "\n",
       "    .dataframe tbody tr th {\n",
       "        vertical-align: top;\n",
       "    }\n",
       "</style>\n",
       "<table border=\"1\" class=\"dataframe\">\n",
       "  <thead>\n",
       "    <tr style=\"text-align: right;\">\n",
       "      <th></th>\n",
       "      <th>place_id</th>\n",
       "      <th>Юридическое лицо, на имя которого выдано регистрационное удостоверение</th>\n",
       "      <th>place_was_nullated</th>\n",
       "      <th>place_no_end</th>\n",
       "      <th>place_time</th>\n",
       "      <th>place_size</th>\n",
       "    </tr>\n",
       "  </thead>\n",
       "  <tbody>\n",
       "    <tr>\n",
       "      <th>0</th>\n",
       "      <td>ChIJ-4GgOlNKtUYRJAfJskWS2Sc</td>\n",
       "      <td>Стерлинг С.п.А.</td>\n",
       "      <td>1.0</td>\n",
       "      <td>1.0</td>\n",
       "      <td>NaN</td>\n",
       "      <td>1</td>\n",
       "    </tr>\n",
       "  </tbody>\n",
       "</table>\n",
       "</div>"
      ],
      "text/plain": [
       "                      place_id  \\\n",
       "0  ChIJ-4GgOlNKtUYRJAfJskWS2Sc   \n",
       "\n",
       "  Юридическое лицо, на имя которого выдано регистрационное удостоверение  \\\n",
       "0                                    Стерлинг С.п.А.                       \n",
       "\n",
       "   place_was_nullated  place_no_end  place_time  place_size  \n",
       "0                 1.0           1.0         NaN           1  "
      ]
     },
     "execution_count": 16,
     "metadata": {},
     "output_type": "execute_result"
    }
   ],
   "source": [
    "# stats by place\n",
    "df_gos = df_gos.groupby(['place_id', 'Юридическое лицо, на имя которого выдано регистрационное удостоверение'], as_index = False).agg({'place_was_nullated':'sum', 'place_no_end':'sum', 'place_time':'mean', 'Номер регистрационного удостоверения':'size'}).rename(columns={'Номер регистрационного удостоверения':'place_size'})\n",
    "df_gos['place_was_nullated'] = df_gos['place_was_nullated'] / df_gos['place_size']\n",
    "df_gos['place_no_end'] = df_gos['place_no_end'] / df_gos['place_size']\n",
    "df_gos.head(1)"
   ]
  },
  {
   "cell_type": "markdown",
   "metadata": {},
   "source": [
    "# Save gos data"
   ]
  },
  {
   "cell_type": "code",
   "execution_count": 21,
   "metadata": {},
   "outputs": [],
   "source": [
    "df_gos = df_gos.groupby(['place_id'], as_index = False).agg({'place_was_nullated':'mean', 'place_no_end':'mean', 'place_time':'mean', 'place_size':'sum', 'Юридическое лицо, на имя которого выдано регистрационное удостоверение':'max'})\n",
    "df_gos.to_csv('data/gos_prepared.csv', encoding='cp1251', sep=';', index = False)"
   ]
  },
  {
   "cell_type": "code",
   "execution_count": null,
   "metadata": {},
   "outputs": [],
   "source": []
  }
 ],
 "metadata": {
  "kernelspec": {
   "display_name": "Python 3",
   "language": "python",
   "name": "python3"
  },
  "language_info": {
   "codemirror_mode": {
    "name": "ipython",
    "version": 3
   },
   "file_extension": ".py",
   "mimetype": "text/x-python",
   "name": "python",
   "nbconvert_exporter": "python",
   "pygments_lexer": "ipython3",
   "version": "3.6.2"
  }
 },
 "nbformat": 4,
 "nbformat_minor": 2
}
