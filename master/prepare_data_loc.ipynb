{
 "cells": [
  {
   "cell_type": "code",
   "execution_count": 2,
   "metadata": {},
   "outputs": [],
   "source": [
    "import pandas as pd\n",
    "import datetime"
   ]
  },
  {
   "cell_type": "code",
   "execution_count": null,
   "metadata": {},
   "outputs": [],
   "source": []
  },
  {
   "cell_type": "markdown",
   "metadata": {},
   "source": [
    "# Load data"
   ]
  },
  {
   "cell_type": "code",
   "execution_count": 3,
   "metadata": {},
   "outputs": [],
   "source": [
    "reestr_place = pd.read_csv('data/reestr_df.csv', encoding = 'cp1251',index_col=0)\n",
    "# статистика по стране\n",
    "reestr_place['Страна'] = reestr_place['Страна'].map(lambda x: 'Россия' if x == 'Россия' else 'Иностранцы')\n",
    "reestr_place = reestr_place.merge(pd.get_dummies(reestr_place['Страна']), left_index=True, right_index=True).drop('Страна', 1)\n",
    "# статистика по ЛС\n",
    "reestr_place = reestr_place.merge(pd.get_dummies(reestr_place['Статус ЛС']), left_index=True, right_index=True).drop('Статус ЛС', 1)\n",
    "# статистика по Масштаб\n",
    "reestr_place = reestr_place.merge(pd.get_dummies(reestr_place['Масштаб']), left_index=True, right_index=True).drop('Масштаб', 1)\n",
    "# статистика по Тип\n",
    "reestr_place = reestr_place.merge(pd.get_dummies(reestr_place['Тип']), left_index=True, right_index=True).drop('Тип', 1)\n",
    "# время\n",
    "reestr_place['Дата документа'] = pd.DatetimeIndex(reestr_place['Информационное письмо'].map(lambda x: x.split('от ')[1]))\n",
    "reestr_place['Год документа'] = pd.DatetimeIndex(reestr_place['Дата документа']).year\n",
    "reestr_place['Месяц документа'] = pd.DatetimeIndex(reestr_place['Дата документа']).month\n",
    "reestr_place['Месяц документа'] = reestr_place['Месяц документа'].astype('str') + '.' + reestr_place['Год документа'].astype('str')\n",
    "reestr_place['Месяц документа'] = reestr_place['Месяц документа'].map(lambda x: datetime.datetime.strptime(x, '%m.%Y'))"
   ]
  },
  {
   "cell_type": "code",
   "execution_count": 5,
   "metadata": {},
   "outputs": [],
   "source": [
    "# groupby stats\n",
    "g_cols = reestr_place.drop(['Серия_y', 'Дата документа', 'Год документа', 'Месяц документа'], 1).loc[:, 'Иностранцы':].columns.values \n",
    "reestr_place= reestr_place.groupby(['place_id'], as_index = False)[g_cols].sum()\n",
    "reestr_place['place_total_letters'] = reestr_place['Иностранцы'] + reestr_place['Россия']\n",
    "for g in g_cols:\n",
    "    reestr_place[g] = reestr_place[g] / reestr_place['place_total_letters']"
   ]
  },
  {
   "cell_type": "code",
   "execution_count": null,
   "metadata": {},
   "outputs": [],
   "source": []
  },
  {
   "cell_type": "markdown",
   "metadata": {},
   "source": [
    "# Save data"
   ]
  },
  {
   "cell_type": "code",
   "execution_count": 6,
   "metadata": {},
   "outputs": [],
   "source": [
    "reestr_place.to_csv('data/fed_prepared.csv', encoding='cp1251', sep=';', index = False)"
   ]
  }
 ],
 "metadata": {
  "kernelspec": {
   "display_name": "Python 3",
   "language": "python",
   "name": "python3"
  },
  "language_info": {
   "codemirror_mode": {
    "name": "ipython",
    "version": 3
   },
   "file_extension": ".py",
   "mimetype": "text/x-python",
   "name": "python",
   "nbconvert_exporter": "python",
   "pygments_lexer": "ipython3",
   "version": "3.6.2"
  }
 },
 "nbformat": 4,
 "nbformat_minor": 2
}
